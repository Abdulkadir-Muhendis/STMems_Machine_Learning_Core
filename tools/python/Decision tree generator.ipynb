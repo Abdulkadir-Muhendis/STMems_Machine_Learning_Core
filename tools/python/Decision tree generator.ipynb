{
 "cells": [
  {
   "cell_type": "markdown",
   "metadata": {},
   "source": [
    "#### Load libraries"
   ]
  },
  {
   "cell_type": "code",
   "execution_count": 1,
   "metadata": {
    "collapsed": false
   },
   "outputs": [
    {
     "name": "stderr",
     "output_type": "stream",
     "text": [
      "C:\\Anaconda3\\lib\\site-packages\\sklearn\\utils\\fixes.py:313: FutureWarning: numpy not_equal will not check object identity in the future. The comparison did not return the same result as suggested by the identity (`is`)) and will change.\n",
      "  _nan_object_mask = _nan_object_array != _nan_object_array\n"
     ]
    }
   ],
   "source": [
    "# Decision tree python corpus taken from: https://www.datacamp.com/community/tutorials/decision-tree-classification-python\n",
    "\n",
    "import pandas as pd\n",
    "from sklearn.tree import DecisionTreeClassifier # Import Decision Tree Classifier\n",
    "from sklearn.model_selection import train_test_split # Import train_test_split function\n",
    "from sklearn import metrics #Import scikit-learn metrics module for accuracy calculation\n",
    "from sklearn import tree\n",
    "from scipy.io import arff\n",
    "import re"
   ]
  },
  {
   "cell_type": "markdown",
   "metadata": {},
   "source": [
    "#### Functions for converting tree from graphviz format to Weka output format"
   ]
  },
  {
   "cell_type": "code",
   "execution_count": 2,
   "metadata": {
    "collapsed": false
   },
   "outputs": [
    {
     "ename": "SyntaxError",
     "evalue": "invalid syntax (<ipython-input-2-ab7a29bf7fd8>, line 98)",
     "output_type": "error",
     "traceback": [
      "\u001b[1;36m  File \u001b[1;32m\"<ipython-input-2-ab7a29bf7fd8>\"\u001b[1;36m, line \u001b[1;32m98\u001b[0m\n\u001b[1;33m    print(f\"\\nNumber of Leaves  : \\t{leaf_size}\")\u001b[0m\n\u001b[1;37m                                               ^\u001b[0m\n\u001b[1;31mSyntaxError\u001b[0m\u001b[1;31m:\u001b[0m invalid syntax\n"
     ]
    }
   ],
   "source": [
    "def isLeaf ( src_str ):\n",
    "    r = re.match(\"[0-9]+ \\[label=\\\"\", src_str)\n",
    "    s = re.search(\"\\\\\\\\n\", src_str)\n",
    "    if (r != None and s == None):\n",
    "        return True\n",
    "    else:\n",
    "        return False\n",
    "\n",
    "def printClassName (src_str):\n",
    "    r = re.search(\"[0-9]+ \\[label=\\\"\", src_str)\n",
    "    s = re.search(\"\\\"\\] ;\", src_str)\n",
    "    t = re.search(\"\\\\\\\\n\", src_str)\n",
    "    if (r != None and s != None and t == None):\n",
    "        print(src_str[r.end():s.start()], end = \"\")\n",
    "    \n",
    "def printCondition ( src_str ):\n",
    "    r = re.search(\"[0-9]+ \\[label=\\\"\", src_str)\n",
    "    s = re.search(\"\\\\\\\\n\", src_str)\n",
    "    if (r != None and s != None):\n",
    "        print(src_str[r.end():s.start()], end = \"\")\n",
    "\n",
    "def getNodeNum (src_str):\n",
    "    r = re.match(\"[0-9]+\", src_str)\n",
    "    if ( r != None):\n",
    "        return int(r.group(0))\n",
    "    else:\n",
    "        return \"\"\n",
    "\n",
    "def getNextLineIndex (src_list, node_num):\n",
    "    tmp = []\n",
    "    i = len(src_list)-1\n",
    "    for line in reversed(src_list):\n",
    "        if ( getNodeNum(line) == int(node_num)):\n",
    "            return i\n",
    "        i -= 1\n",
    "    return -1\n",
    "\n",
    "def isNodeInfo (src_str):\n",
    "    if (re.match('[0-9]+ -> [0-9]+[ ]+;', src_str) != None):\n",
    "        return True\n",
    "    else:\n",
    "        return False\n",
    "def oppOperator (src_str):\n",
    "    src_str = src_str.replace(\"<=\", \">\")\n",
    "    src_str = src_str.replace(\">=\", \"<\")\n",
    "    return src_str\n",
    "\n",
    "def formatTree ( line, indent ):\n",
    "    global leaf_size, tree_size\n",
    "    \n",
    "    # If the first line is just node connection info line, skip it\n",
    "    if (isNodeInfo(line[0])):\n",
    "        line = line[1:]\n",
    "\n",
    "    # If the first line is a leaf, print its name with \\n, othewise only \\n\n",
    "    if (isLeaf(line[0])):\n",
    "        print(\": \", end = \"\")\n",
    "        printClassName(line[0])\n",
    "        print(\"\")\n",
    "        leaf_size += 1\n",
    "        tree_size += 1\n",
    "        return\n",
    "    else:\n",
    "        print(\"\")\n",
    "        tree_size += 1\n",
    "\n",
    "    nIndex = getNodeNum(line[0]) # Get node index\n",
    "    splitIndex = getNextLineIndex (line[1:], nIndex) # Get split index\n",
    "\n",
    "    if( len(line[1:splitIndex])> 0):\n",
    "        # Print original condition\n",
    "        print(\"|   \"*indent, end = \"\")\n",
    "        printCondition(line[0])\n",
    "        formatTree(line[1:splitIndex], indent + 1) # Call recusively for the first part of original tree\n",
    "        \n",
    "    if ( len(line[splitIndex-1:]) > 0):\n",
    "        # Print opposite condition\n",
    "        print(\"|   \"*indent, end = \"\")\n",
    "        printCondition(oppOperator(line[0]))\n",
    "        formatTree(line[splitIndex-1:], indent + 1)# Call recusively for the second part of original tree\n",
    "        \n",
    "def printTree (dot_tree):\n",
    "    new_tree = []\n",
    "     \n",
    "    # Preprocess the tree \n",
    "    for line in dot_tree.split(\"\\n\"):\n",
    "        r = re.search(\"[0-9]+\\\\\\\\n\\[([0-9]+[,]?[ ]?)+\\]\\\\\\\\n\", line)\n",
    "        s = re.search(\"\\[labeldistance=[0-9]+\\.?[0-9]*, labelangle=-?[0-9]+, headlabel=\\\"(False|True)\\\"\\]\", line)\n",
    "        if ( r != None ):\n",
    "            line = line[:r.start()]+line[r.end():]\n",
    "        if ( s != None ):\n",
    "            line = line[:s.start()]+line[s.end():]\n",
    "        new_tree.append(line)\n",
    "    \n",
    "    # Print in Weka format\n",
    "    formatTree ( new_tree[2:-1], 0 )\n",
    "    \n",
    "    print(f\"\\nNumber of Leaves  : \\t{leaf_size}\")\n",
    "    print(f\"\\nSize of the tree : \\t{tree_size}\")"
   ]
  },
  {
   "cell_type": "markdown",
   "metadata": {},
   "source": [
    "#### Load dataset from arff file"
   ]
  },
  {
   "cell_type": "code",
   "execution_count": 3,
   "metadata": {
    "collapsed": true
   },
   "outputs": [],
   "source": [
    "# Decision tree python corpus taken from: https://www.datacamp.com/community/tutorials/decision-tree-classification-python\n",
    "\n",
    "data = arff.loadarff('test.arff')  # <- Write desired file here\n",
    "data_set = pd.DataFrame(data[0])\n",
    "data_set['class'] = data_set['class'].str.decode('ASCII')\n",
    "col_names = list(data_set)\n",
    "\n",
    "feature_cols = col_names[:-1]\n",
    "class_name = list(set(data_set[col_names[-1]]))"
   ]
  },
  {
   "cell_type": "markdown",
   "metadata": {},
   "source": [
    "#### Split and shuffle our data to train data (70%) and test data (30%), train the decision tree and print accuracy of our tree"
   ]
  },
  {
   "cell_type": "code",
   "execution_count": 4,
   "metadata": {
    "collapsed": false
   },
   "outputs": [
    {
     "name": "stdout",
     "output_type": "stream",
     "text": [
      "\n",
      "Accuracy: 1.0\n"
     ]
    }
   ],
   "source": [
    "# Decision tree python corpus taken from: https://www.datacamp.com/community/tutorials/decision-tree-classification-python\n",
    "\n",
    "X = data_set[feature_cols] # Features\n",
    "y = data_set[col_names[-1]] # Target variable\n",
    "\n",
    "# Split dataset into training set and test set\n",
    "X_train, X_test, y_train, y_test = train_test_split(X, y, test_size=0.3, random_state=1) # 70% training and 30% test\n",
    "\n",
    "# Create Decision Tree classifer object\n",
    "clf = tree.DecisionTreeClassifier() # You can specify the max depth by passing argument for example: max_depth=3\n",
    "\n",
    "# Train Decision Tree Classifer\n",
    "clf = clf.fit(X_train,y_train)\n",
    "\n",
    "#Predict the response for test dataset\n",
    "y_pred = clf.predict(X_test)\n",
    "\n",
    "# Model Accuracy, how often is the classifier correct?\n",
    "print(\"\\nAccuracy:\",metrics.accuracy_score(y_test, y_pred))"
   ]
  },
  {
   "cell_type": "markdown",
   "metadata": {},
   "source": [
    "#### Export our tree to graphviz format and change it to weka format"
   ]
  },
  {
   "cell_type": "code",
   "execution_count": 5,
   "metadata": {
    "collapsed": false
   },
   "outputs": [
    {
     "name": "stdout",
     "output_type": "stream",
     "text": [
      "\n",
      "F2_ABS(VAR)_on_ACC_V <= 0.008\n",
      "|   F1_ABS(MEAN)_on_ACC_V <= 1.025\n",
      "|   |   F1_ABS(MEAN)_on_ACC_V <= 1.016: moving\n",
      "|   |   F1_ABS(MEAN)_on_ACC_V > 1.016\n",
      "|   |   |   F2_ABS(VAR)_on_ACC_V <= 0.002\n",
      "|   |   |   |   F1_ABS(MEAN)_on_ACC_V <= 1.022: still\n",
      "|   |   |   |   F1_ABS(MEAN)_on_ACC_V > 1.022: moving\n",
      "|   |   |   F2_ABS(VAR)_on_ACC_V > 0.002: still\n",
      "|   F1_ABS(MEAN)_on_ACC_V > 1.025: moving\n",
      "F2_ABS(VAR)_on_ACC_V > 0.008\n",
      "|   F2_ABS(VAR)_on_ACC_V <= 0.009\n",
      "|   |   F1_ABS(MEAN)_on_ACC_V <= 1.032\n",
      "|   |   |   F1_ABS(MEAN)_on_ACC_V <= 0.963: moving\n",
      "|   |   |   F1_ABS(MEAN)_on_ACC_V > 0.963: still\n",
      "|   |   F1_ABS(MEAN)_on_ACC_V > 1.032: moving\n",
      "|   F2_ABS(VAR)_on_ACC_V > 0.009: moving\n",
      "\n",
      "Number of Leaves  : \t9\n",
      "\n",
      "Size of the tree : \t17\n"
     ]
    }
   ],
   "source": [
    "leaf_size = 0\n",
    "tree_size = 0\n",
    "\n",
    "dot_tree = tree.export_graphviz(clf, out_file=None, class_names=class_name, label= \"none\", impurity = False, feature_names = feature_cols)\n",
    "\n",
    "printTree (dot_tree)"
   ]
  }
 ],
 "metadata": {
  "kernelspec": {
   "display_name": "Python 3",
   "language": "python",
   "name": "python3"
  },
  "language_info": {
   "codemirror_mode": {
    "name": "ipython",
    "version": 3
   },
   "file_extension": ".py",
   "mimetype": "text/x-python",
   "name": "python",
   "nbconvert_exporter": "python",
   "pygments_lexer": "ipython3",
   "version": "3.5.4"
  }
 },
 "nbformat": 4,
 "nbformat_minor": 2
}
